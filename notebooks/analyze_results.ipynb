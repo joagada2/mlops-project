{
 "cells": [
  {
   "cell_type": "code",
   "execution_count": 1,
   "id": "9a714683",
   "metadata": {},
   "outputs": [],
   "source": [
    "data_process = \"data/processed\"\n",
    "data_final = \"data/final/predictions.pkl\""
   ]
  },
  {
   "cell_type": "code",
   "execution_count": 2,
   "id": "8b22fa40",
   "metadata": {},
   "outputs": [],
   "source": [
    "import joblib \n",
    "import pandas as pd \n",
    "from sklearn.metrics import confusion_matrix\n",
    "import joblib\n",
    "\n",
    "#y_pred = joblib.load(data_process)['y_test']\n",
    "#predictions = joblib.load(data_final)\n",
    "#confusion_matrix(y_pred, predictions)"
   ]
  },
  {
   "cell_type": "code",
   "execution_count": 3,
   "id": "e9b37a50",
   "metadata": {},
   "outputs": [],
   "source": [
    "#importation of libraries\n",
    "import pandas as pd\n",
    "import numpy as np\n",
    "import matplotlib.pyplot as plt\n",
    "%matplotlib inline\n",
    "import seaborn as sns\n",
    "from sklearn.metrics import f1_score,roc_auc_score"
   ]
  },
  {
   "cell_type": "code",
   "execution_count": 4,
   "id": "6c960a67",
   "metadata": {},
   "outputs": [],
   "source": [
    "df = pd.read_csv('C:/Users/HP 1O3O G2/complete_end_to-end_ml_project/data/raw/card_transdata.csv')"
   ]
  },
  {
   "cell_type": "code",
   "execution_count": 5,
   "id": "8bd1eb35",
   "metadata": {},
   "outputs": [],
   "source": [
    "from sklearn.model_selection import train_test_split"
   ]
  },
  {
   "cell_type": "code",
   "execution_count": 6,
   "id": "2e2a921a",
   "metadata": {},
   "outputs": [],
   "source": [
    "X = df.drop('fraud', axis=1)\n",
    "y = df['fraud']"
   ]
  },
  {
   "cell_type": "code",
   "execution_count": 7,
   "id": "e74cb29f",
   "metadata": {},
   "outputs": [],
   "source": [
    "X_train, X_test, y_train, y_test = train_test_split(X,y, test_size=0.3, random_state = 43)"
   ]
  },
  {
   "cell_type": "code",
   "execution_count": 8,
   "id": "fda693dc",
   "metadata": {},
   "outputs": [
    {
     "data": {
      "text/html": [
       "<div>\n",
       "<style scoped>\n",
       "    .dataframe tbody tr th:only-of-type {\n",
       "        vertical-align: middle;\n",
       "    }\n",
       "\n",
       "    .dataframe tbody tr th {\n",
       "        vertical-align: top;\n",
       "    }\n",
       "\n",
       "    .dataframe thead th {\n",
       "        text-align: right;\n",
       "    }\n",
       "</style>\n",
       "<table border=\"1\" class=\"dataframe\">\n",
       "  <thead>\n",
       "    <tr style=\"text-align: right;\">\n",
       "      <th></th>\n",
       "      <th>distance_from_home</th>\n",
       "      <th>distance_from_last_transaction</th>\n",
       "      <th>ratio_to_median_purchase_price</th>\n",
       "      <th>repeat_retailer</th>\n",
       "      <th>used_chip</th>\n",
       "      <th>used_pin_number</th>\n",
       "      <th>online_order</th>\n",
       "    </tr>\n",
       "  </thead>\n",
       "  <tbody>\n",
       "    <tr>\n",
       "      <th>0</th>\n",
       "      <td>-0.211056</td>\n",
       "      <td>-0.094865</td>\n",
       "      <td>1.992367</td>\n",
       "      <td>0.366168</td>\n",
       "      <td>-0.735005</td>\n",
       "      <td>-0.334095</td>\n",
       "      <td>0.732968</td>\n",
       "    </tr>\n",
       "    <tr>\n",
       "      <th>1</th>\n",
       "      <td>-0.381153</td>\n",
       "      <td>0.930823</td>\n",
       "      <td>1.836468</td>\n",
       "      <td>0.366168</td>\n",
       "      <td>1.360535</td>\n",
       "      <td>-0.334095</td>\n",
       "      <td>0.732968</td>\n",
       "    </tr>\n",
       "    <tr>\n",
       "      <th>2</th>\n",
       "      <td>-0.262578</td>\n",
       "      <td>-0.205536</td>\n",
       "      <td>-0.545305</td>\n",
       "      <td>0.366168</td>\n",
       "      <td>-0.735005</td>\n",
       "      <td>-0.334095</td>\n",
       "      <td>0.732968</td>\n",
       "    </tr>\n",
       "    <tr>\n",
       "      <th>3</th>\n",
       "      <td>-0.204920</td>\n",
       "      <td>-0.151519</td>\n",
       "      <td>0.142076</td>\n",
       "      <td>0.366168</td>\n",
       "      <td>-0.735005</td>\n",
       "      <td>-0.334095</td>\n",
       "      <td>-1.364316</td>\n",
       "    </tr>\n",
       "    <tr>\n",
       "      <th>4</th>\n",
       "      <td>-0.234033</td>\n",
       "      <td>-0.227503</td>\n",
       "      <td>-0.546827</td>\n",
       "      <td>0.366168</td>\n",
       "      <td>-0.735005</td>\n",
       "      <td>-0.334095</td>\n",
       "      <td>0.732968</td>\n",
       "    </tr>\n",
       "  </tbody>\n",
       "</table>\n",
       "</div>"
      ],
      "text/plain": [
       "   distance_from_home  distance_from_last_transaction  \\\n",
       "0           -0.211056                       -0.094865   \n",
       "1           -0.381153                        0.930823   \n",
       "2           -0.262578                       -0.205536   \n",
       "3           -0.204920                       -0.151519   \n",
       "4           -0.234033                       -0.227503   \n",
       "\n",
       "   ratio_to_median_purchase_price  repeat_retailer  used_chip  \\\n",
       "0                        1.992367         0.366168  -0.735005   \n",
       "1                        1.836468         0.366168   1.360535   \n",
       "2                       -0.545305         0.366168  -0.735005   \n",
       "3                        0.142076         0.366168  -0.735005   \n",
       "4                       -0.546827         0.366168  -0.735005   \n",
       "\n",
       "   used_pin_number  online_order  \n",
       "0        -0.334095      0.732968  \n",
       "1        -0.334095      0.732968  \n",
       "2        -0.334095      0.732968  \n",
       "3        -0.334095     -1.364316  \n",
       "4        -0.334095      0.732968  "
      ]
     },
     "execution_count": 8,
     "metadata": {},
     "output_type": "execute_result"
    }
   ],
   "source": [
    "from sklearn.preprocessing import StandardScaler\n",
    "scaler = StandardScaler()\n",
    "X_trained_transformed = scaler.fit_transform(X_train)\n",
    "columns = X.columns\n",
    "X_trained_transformed = pd.DataFrame(X_trained_transformed, columns = columns)\n",
    "X_trained_transformed.head()"
   ]
  },
  {
   "cell_type": "code",
   "execution_count": 9,
   "id": "4b802f7e",
   "metadata": {},
   "outputs": [],
   "source": [
    "from sklearn.linear_model import LogisticRegression"
   ]
  },
  {
   "cell_type": "code",
   "execution_count": 10,
   "id": "a9cfd2e1",
   "metadata": {},
   "outputs": [],
   "source": [
    "logmodel = LogisticRegression(max_iter = 200)"
   ]
  },
  {
   "cell_type": "code",
   "execution_count": 11,
   "id": "5ab562dc",
   "metadata": {},
   "outputs": [
    {
     "data": {
      "text/plain": [
       "LogisticRegression(max_iter=200)"
      ]
     },
     "execution_count": 11,
     "metadata": {},
     "output_type": "execute_result"
    }
   ],
   "source": [
    "logmodel.fit(X_trained_transformed,y_train)"
   ]
  },
  {
   "cell_type": "code",
   "execution_count": 12,
   "id": "123b7d24",
   "metadata": {},
   "outputs": [
    {
     "data": {
      "text/html": [
       "<div>\n",
       "<style scoped>\n",
       "    .dataframe tbody tr th:only-of-type {\n",
       "        vertical-align: middle;\n",
       "    }\n",
       "\n",
       "    .dataframe tbody tr th {\n",
       "        vertical-align: top;\n",
       "    }\n",
       "\n",
       "    .dataframe thead th {\n",
       "        text-align: right;\n",
       "    }\n",
       "</style>\n",
       "<table border=\"1\" class=\"dataframe\">\n",
       "  <thead>\n",
       "    <tr style=\"text-align: right;\">\n",
       "      <th></th>\n",
       "      <th>distance_from_home</th>\n",
       "      <th>distance_from_last_transaction</th>\n",
       "      <th>ratio_to_median_purchase_price</th>\n",
       "      <th>repeat_retailer</th>\n",
       "      <th>used_chip</th>\n",
       "      <th>used_pin_number</th>\n",
       "      <th>online_order</th>\n",
       "    </tr>\n",
       "  </thead>\n",
       "  <tbody>\n",
       "    <tr>\n",
       "      <th>0</th>\n",
       "      <td>1.559393</td>\n",
       "      <td>-0.222628</td>\n",
       "      <td>1.788491</td>\n",
       "      <td>0.366168</td>\n",
       "      <td>1.360535</td>\n",
       "      <td>-0.334095</td>\n",
       "      <td>0.732968</td>\n",
       "    </tr>\n",
       "    <tr>\n",
       "      <th>1</th>\n",
       "      <td>-0.322869</td>\n",
       "      <td>-0.216238</td>\n",
       "      <td>0.103321</td>\n",
       "      <td>0.366168</td>\n",
       "      <td>-0.735005</td>\n",
       "      <td>-0.334095</td>\n",
       "      <td>0.732968</td>\n",
       "    </tr>\n",
       "    <tr>\n",
       "      <th>2</th>\n",
       "      <td>-0.341000</td>\n",
       "      <td>-0.223533</td>\n",
       "      <td>0.309806</td>\n",
       "      <td>0.366168</td>\n",
       "      <td>1.360535</td>\n",
       "      <td>-0.334095</td>\n",
       "      <td>0.732968</td>\n",
       "    </tr>\n",
       "    <tr>\n",
       "      <th>3</th>\n",
       "      <td>-0.347664</td>\n",
       "      <td>-0.118146</td>\n",
       "      <td>0.771869</td>\n",
       "      <td>0.366168</td>\n",
       "      <td>-0.735005</td>\n",
       "      <td>-0.334095</td>\n",
       "      <td>0.732968</td>\n",
       "    </tr>\n",
       "    <tr>\n",
       "      <th>4</th>\n",
       "      <td>-0.388108</td>\n",
       "      <td>0.205750</td>\n",
       "      <td>-0.130159</td>\n",
       "      <td>-2.730988</td>\n",
       "      <td>1.360535</td>\n",
       "      <td>-0.334095</td>\n",
       "      <td>0.732968</td>\n",
       "    </tr>\n",
       "  </tbody>\n",
       "</table>\n",
       "</div>"
      ],
      "text/plain": [
       "   distance_from_home  distance_from_last_transaction  \\\n",
       "0            1.559393                       -0.222628   \n",
       "1           -0.322869                       -0.216238   \n",
       "2           -0.341000                       -0.223533   \n",
       "3           -0.347664                       -0.118146   \n",
       "4           -0.388108                        0.205750   \n",
       "\n",
       "   ratio_to_median_purchase_price  repeat_retailer  used_chip  \\\n",
       "0                        1.788491         0.366168   1.360535   \n",
       "1                        0.103321         0.366168  -0.735005   \n",
       "2                        0.309806         0.366168   1.360535   \n",
       "3                        0.771869         0.366168  -0.735005   \n",
       "4                       -0.130159        -2.730988   1.360535   \n",
       "\n",
       "   used_pin_number  online_order  \n",
       "0        -0.334095      0.732968  \n",
       "1        -0.334095      0.732968  \n",
       "2        -0.334095      0.732968  \n",
       "3        -0.334095      0.732968  \n",
       "4        -0.334095      0.732968  "
      ]
     },
     "execution_count": 12,
     "metadata": {},
     "output_type": "execute_result"
    }
   ],
   "source": [
    "X_test_transformed = scaler.transform(X_test)\n",
    "columns = X.columns\n",
    "X_test_transformed = pd.DataFrame(X_test_transformed, columns = columns)\n",
    "X_test_transformed.head()"
   ]
  },
  {
   "cell_type": "code",
   "execution_count": 13,
   "id": "f729efec",
   "metadata": {},
   "outputs": [],
   "source": [
    "predictions = logmodel.predict(X_test_transformed)"
   ]
  },
  {
   "cell_type": "code",
   "execution_count": 14,
   "id": "960c3e49",
   "metadata": {},
   "outputs": [],
   "source": [
    "from sklearn.metrics import classification_report, confusion_matrix, accuracy_score"
   ]
  },
  {
   "cell_type": "code",
   "execution_count": 15,
   "id": "af5e8e20",
   "metadata": {},
   "outputs": [
    {
     "name": "stdout",
     "output_type": "stream",
     "text": [
      "              precision    recall  f1-score   support\n",
      "\n",
      "         0.0       0.96      0.99      0.98    273810\n",
      "         1.0       0.89      0.61      0.72     26190\n",
      "\n",
      "    accuracy                           0.96    300000\n",
      "   macro avg       0.93      0.80      0.85    300000\n",
      "weighted avg       0.96      0.96      0.96    300000\n",
      "\n"
     ]
    }
   ],
   "source": [
    "print(classification_report(y_test, predictions))"
   ]
  },
  {
   "cell_type": "code",
   "execution_count": 16,
   "id": "b7159d97",
   "metadata": {},
   "outputs": [
    {
     "data": {
      "text/plain": [
       "array([[271788,   2022],\n",
       "       [ 10227,  15963]], dtype=int64)"
      ]
     },
     "execution_count": 16,
     "metadata": {},
     "output_type": "execute_result"
    }
   ],
   "source": [
    "confusion_matrix(y_test, predictions)"
   ]
  },
  {
   "cell_type": "code",
   "execution_count": 17,
   "id": "581ea8f2",
   "metadata": {},
   "outputs": [
    {
     "data": {
      "text/plain": [
       "0.95917"
      ]
     },
     "execution_count": 17,
     "metadata": {},
     "output_type": "execute_result"
    }
   ],
   "source": [
    "accuracy_score(y_test, predictions)"
   ]
  },
  {
   "cell_type": "code",
   "execution_count": 18,
   "id": "ff1b6d07",
   "metadata": {},
   "outputs": [
    {
     "data": {
      "text/plain": [
       "0.8010613813903362"
      ]
     },
     "execution_count": 18,
     "metadata": {},
     "output_type": "execute_result"
    }
   ],
   "source": [
    "roc_auc_score(y_test, predictions)"
   ]
  },
  {
   "cell_type": "code",
   "execution_count": 19,
   "id": "61a00605",
   "metadata": {},
   "outputs": [
    {
     "data": {
      "text/plain": [
       "0.7227164685908319"
      ]
     },
     "execution_count": 19,
     "metadata": {},
     "output_type": "execute_result"
    }
   ],
   "source": [
    "f1_score(y_test, predictions)"
   ]
  },
  {
   "cell_type": "code",
   "execution_count": 20,
   "id": "a75aad9b",
   "metadata": {},
   "outputs": [
    {
     "data": {
      "image/png": "[encoded data removed]",
      "text/plain": [
       "<Figure size 640x480 with 1 Axes>"
      ]
     },
     "metadata": {},
     "output_type": "display_data"
    }
   ],
   "source": [
    "from sklearn.metrics import roc_auc_score\n",
    "from sklearn.metrics import roc_curve\n",
    "logit_roc_auc = roc_auc_score(y_test, logmodel.predict(X_test_transformed))\n",
    "fpr, tpr, thresholds = roc_curve(y_test, logmodel.predict_proba(X_test_transformed)[:,1])\n",
    "plt.figure()\n",
    "plt.plot(fpr, tpr, label='Logistic Regression (area = %0.2f)' % logit_roc_auc)\n",
    "plt.plot([0, 1], [0, 1],'r--')\n",
    "plt.xlim([0.0, 1.0])\n",
    "plt.ylim([0.0, 1.05])\n",
    "plt.xlabel('False Positive Rate')\n",
    "plt.ylabel('True Positive Rate')\n",
    "plt.title('Receiver operating characteristic')\n",
    "plt.legend(loc=\"lower right\")\n",
    "plt.savefig('Log_ROC')\n",
    "plt.show()"
   ]
  },
  {
   "cell_type": "code",
   "execution_count": 21,
   "id": "54d6091e",
   "metadata": {},
   "outputs": [],
   "source": [
    "from sklearn.pipeline import Pipeline"
   ]
  },
  {
   "cell_type": "code",
   "execution_count": 22,
   "id": "e861487b",
   "metadata": {},
   "outputs": [],
   "source": [
    "model_pipeline = Pipeline(steps=[('normalize_data', StandardScaler()), \n",
    "                                 ('log_regression', LogisticRegression(max_iter = 200))\n",
    "                                 ])\n",
    "# fit the pipeline with the training "
   ]
  },
  {
   "cell_type": "code",
   "execution_count": 23,
   "id": "481eb992",
   "metadata": {},
   "outputs": [
    {
     "data": {
      "text/plain": [
       "Pipeline(steps=[('normalize_data', StandardScaler()),\n",
       "                ('log_regression', LogisticRegression(max_iter=200))])"
      ]
     },
     "execution_count": 23,
     "metadata": {},
     "output_type": "execute_result"
    }
   ],
   "source": [
    "model_pipeline.fit(X_train,y_train)"
   ]
  },
  {
   "cell_type": "code",
   "execution_count": 24,
   "id": "08ec74e2",
   "metadata": {},
   "outputs": [],
   "source": [
    "predictions2 = model_pipeline.predict(X_test)"
   ]
  },
  {
   "cell_type": "code",
   "execution_count": 25,
   "id": "a771a015",
   "metadata": {},
   "outputs": [
    {
     "data": {
      "text/plain": [
       "array([1., 0., 0., ..., 0., 0., 1.])"
      ]
     },
     "execution_count": 25,
     "metadata": {},
     "output_type": "execute_result"
    }
   ],
   "source": [
    "predictions2"
   ]
  },
  {
   "cell_type": "code",
   "execution_count": 26,
   "id": "676a62b4",
   "metadata": {},
   "outputs": [],
   "source": [
    "import pickle\n",
    "# save model\n",
    "#pickle.dump(model_pipeline, open(\"model_pipeline.pickle\", \"wb\"))"
   ]
  },
  {
   "cell_type": "code",
   "execution_count": 27,
   "id": "5497831b",
   "metadata": {},
   "outputs": [],
   "source": [
    "# load model\n",
    "#loaded_model = pickle.load(open(\"model_pipeline.pickle\", \"rb\"))"
   ]
  },
  {
   "cell_type": "code",
   "execution_count": 28,
   "id": "218ca0d3",
   "metadata": {},
   "outputs": [],
   "source": [
    "#loaded_model.predict(X_test)"
   ]
  },
  {
   "cell_type": "code",
   "execution_count": 29,
   "id": "f9617d98",
   "metadata": {},
   "outputs": [],
   "source": [
    "import mlflow\n",
    "import mlflow.sklearn\n",
    "import os\n",
    "import warnings\n",
    "import sys\n",
    "import logging\n",
    "from urllib.parse import urlparse\n",
    "logging.basicConfig(level=logging.WARN)\n",
    "logger = logging.getLogger(__name__)"
   ]
  },
  {
   "cell_type": "markdown",
   "id": "0e936d07",
   "metadata": {},
   "source": [
    "if __name__ == \"__main__\":\n",
    "    \n",
    "    warnings.filterwarnings(\"ignore\")\n",
    "    np.random.seed(40)\n",
    "\n",
    "    # Read the wine-quality csv file from the URL\n",
    "    csv_url = (\n",
    "         'C:/Users/HP 1O3O G2/complete_end_to-end_ml_project/data/raw/card_transdata.csv'\n",
    "    )\n",
    "    try:\n",
    "        data = pd.read_csv(csv_url)\n",
    "        \n",
    "    except Exception as e:\n",
    "        logger.exception(\n",
    "            \"Unable to download training & test CSV, check your internet connection. Error: %s\", e\n",
    "        )\n",
    "\n",
    "    # Split the data into training and test sets. (0.75, 0.25) split.\n",
    "    train, test = train_test_split(data)\n",
    "\n",
    "    # The predicted column is \"quality\" which is a scalar from [3, 9]\n",
    "    X_train = train.drop(['fraud'], axis=1)\n",
    "    X_test = test.drop(['fraud'], axis=1)\n",
    "    y_train = train[['fraud']]\n",
    "    y_test = test[['fraud']]\n",
    "    \n",
    "    max_iter=200\n",
    "    \n",
    "    #with mlflow.start_run():\n",
    "    with mlflow.start_run(run_name=\"Fraud_detection_experiment\") as run:\n",
    "        model_pipeline = Pipeline(steps=[('normalize_data', StandardScaler()), \n",
    "                                 ('log_regression', LogisticRegression(max_iter = 200))\n",
    "                                 ])\n",
    "        # fit the pipeline with the training \n",
    "        model_pipeline.fit(X_train,y_train)\n",
    "        predictions = model_pipeline.predict(X_test)\n",
    "\n",
    "        #eval_matrix = print(classification_report(y_test, predictions))\n",
    "        accuracy = accuracy_score(y_test, predictions)\n",
    "        Area_Under_ROC = roc_auc_score(y_test, predictions)\n",
    "        F1_Score = f1_score(y_test, predictions)\n",
    "        \n",
    "\n",
    "        print(\"Logistic Regression Model\")\n",
    "        print(\"  accuracy: %s\" % accuracy)\n",
    "        print(\"  Area_Under_ROC: %s\" % Area_Under_ROC)\n",
    "        print(\"  F1_Score: %s\" % F1_Score)\n",
    "\n",
    "        mlflow.log_param(\"Maximum Interation\", max_iter)\n",
    "        mlflow.log_metric(\"Accuracy\", accuracy)\n",
    "        mlflow.log_metric(\"Area_Under_ROC\", Area_Under_ROC)\n",
    "        mlflow.log_metric(\"F1_Score\", F1_Score)\n",
    "        \n",
    "\n",
    "        tracking_url_type_store = urlparse(mlflow.get_tracking_uri()).scheme\n",
    "\n",
    "        # Model registry does not work with file store\n",
    "        if tracking_url_type_store != \"file\":\n",
    "\n",
    "            # Register the model\n",
    "            # There are other ways to use the Model Registry, which depends on the use case,\n",
    "            # please refer to the doc for more information:\n",
    "            # https://mlflow.org/docs/latest/model-registry.html#api-workflow\n",
    "            mlflow.sklearn.log_model(model_pipeline, \"model\", registered_model_name=\"LogRegressionPipeline\")\n",
    "        else:\n",
    "            mlflow.sklearn.log_model(model_pipeline, \"model\")"
   ]
  },
  {
   "cell_type": "code",
   "execution_count": 31,
   "id": "635ceac4",
   "metadata": {},
   "outputs": [
    {
     "name": "stdout",
     "output_type": "stream",
     "text": [
      "MLflow Version: 1.30.0\n",
      "Tracking URI: http://localhost:5000\n"
     ]
    }
   ],
   "source": [
    "print(\"MLflow Version:\", mlflow.version.VERSION)\n",
    "mlflow.set_tracking_uri(\"http://localhost:5000\")\n",
    "print(\"Tracking URI:\", mlflow.tracking.get_tracking_uri())"
   ]
  },
  {
   "cell_type": "code",
   "execution_count": null,
   "id": "77fe5f09",
   "metadata": {},
   "outputs": [],
   "source": [
    "! mlflow ui"
   ]
  },
  {
   "cell_type": "code",
   "execution_count": null,
   "id": "76511ead",
   "metadata": {},
   "outputs": [],
   "source": []
  },
  {
   "cell_type": "code",
   "execution_count": null,
   "id": "bc9dd6c5",
   "metadata": {},
   "outputs": [],
   "source": []
  },
  {
   "cell_type": "code",
   "execution_count": null,
   "id": "e8de6c1d",
   "metadata": {},
   "outputs": [],
   "source": []
  },
  {
   "cell_type": "code",
   "execution_count": null,
   "id": "baba286c",
   "metadata": {},
   "outputs": [],
   "source": []
  },
  {
   "cell_type": "code",
   "execution_count": null,
   "id": "530f06e3",
   "metadata": {},
   "outputs": [],
   "source": []
  }
 ],
 "metadata": {
  "kernelspec": {
   "display_name": "Python (mlops)",
   "language": "python",
   "name": "myenv"
  },
  "language_info": {
   "codemirror_mode": {
    "name": "ipython",
    "version": 3
   },
   "file_extension": ".py",
   "mimetype": "text/x-python",
   "name": "python",
   "nbconvert_exporter": "python",
   "pygments_lexer": "ipython3",
   "version": "3.7.15"
  }
 },
 "nbformat": 4,
 "nbformat_minor": 5
}
